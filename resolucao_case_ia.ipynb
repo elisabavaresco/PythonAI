{
 "cells": [
  {
   "cell_type": "markdown",
   "metadata": {},
   "source": [
    "### Objetivo : Definir o score de crédito do cliente\n",
    "Notas possíveis: Boa, OK, Ruim\n",
    "\n",
    "## Passo a passo:\n",
    "Passo 0: Entender a empresa e o desafio da empresa\n",
    "\n",
    "Passo 1: Importar a base de dados\n",
    "\n",
    "Passo 2: Preparar a base de dados para a Inteligência Artificial\n",
    "\n",
    "Passo 3: Treinar a Inteligência Artificial -> Criar o modelo: Nota de crédito: Boa, Ok, Ruim\n",
    "\n",
    "Passo 4: Escolher qual o melhor modelo\n",
    "\n",
    "Passo 5: Usar o melhor modelo para fazer previsão de novos clientes"
   ]
  }
 ],
 "metadata": {
  "kernelspec": {
   "display_name": "Python 3",
   "language": "python",
   "name": "python3"
  },
  "language_info": {
   "name": "python",
   "version": "3.13.0"
  }
 },
 "nbformat": 4,
 "nbformat_minor": 2
}
